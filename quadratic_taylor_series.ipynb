{
 "cells": [
  {
   "cell_type": "code",
   "execution_count": 1,
   "metadata": {},
   "outputs": [
    {
     "data": {
      "text/plain": [
       "0.003157289989758283"
      ]
     },
     "execution_count": 1,
     "metadata": {},
     "output_type": "execute_result"
    }
   ],
   "source": [
    "import timeit\n",
    "from sympy import *\n",
    "import numpy as np\n",
    "from scipy import linalg, sparse\n",
    "\n",
    "startTime = timeit.default_timer()\n",
    "## Problem Statement\n",
    "stations=8\n",
    "requests=8\n",
    "all_variable_count = stations*requests\n",
    "# Minimum Assignment from Each Station\n",
    "minimumAssignment = np.random.randint(low = 1, high = 10, size = (requests, stations))\n",
    "#sparsity_gate=np.round(np.random.random((requests, stations))*1)\n",
    "sparsity_gate=np.ones((requests, stations))\n",
    "minimumAssignment=minimumAssignment*sparsity_gate\n",
    "# Station Count and Request Count\n",
    "station_counts=5*np.sum(minimumAssignment,axis=0)\n",
    "request_counts=3*np.sum(minimumAssignment,axis=1)\n",
    "# Impressions\n",
    "station_impressions=np.matrix(np.random.uniform(low=10,high=20,size=stations))\n",
    "request_impressions=3*(minimumAssignment*station_impressions.T).T #Target impressions for request depends on ratio of frames from stations and average station impressions\n",
    "endTime = timeit.default_timer() - startTime\n",
    "endTime"
   ]
  },
  {
   "cell_type": "code",
   "execution_count": 2,
   "metadata": {},
   "outputs": [
    {
     "data": {
      "text/plain": [
       "0.00543354800902307"
      ]
     },
     "execution_count": 2,
     "metadata": {},
     "output_type": "execute_result"
    }
   ],
   "source": [
    "startTime = timeit.default_timer()\n",
    "## Solution\n",
    "# Cost function\n",
    "gram_matrix=2*np.kron(station_impressions,station_impressions.T)\n",
    "Q=np.kron(np.identity(requests,dtype=int),gram_matrix)\n",
    "p=-2*np.kron(request_impressions,station_impressions)\n",
    "\n",
    "# Inequality constraints - On stations and on individual non-zero variable\n",
    "station_G = np.concatenate(np.apply_along_axis(lambda x: linalg.block_diag(*x),1,sparsity_gate)).T\n",
    "individual_variable_G = -1*np.identity(all_variable_count,dtype=int)*sparsity_gate.reshape(1, all_variable_count)\n",
    "individual_variable_G = individual_variable_G[np.where(np.sum(individual_variable_G, axis = 1) != 0)[0],]\n",
    "G = np.concatenate([station_G,individual_variable_G],axis=0)\n",
    "\n",
    "station_h = station_counts\n",
    "individual_variable_h = -1*minimumAssignment[np.where(minimumAssignment != 0)]\n",
    "h = np.concatenate([station_h,individual_variable_h],axis=0)\n",
    "\n",
    "# Equality constraints - On requests and on individual zero variables\n",
    "request_A = linalg.block_diag(*sparsity_gate.tolist())\n",
    "individual_variable_A = np.identity(all_variable_count,dtype=int)*(1 - sparsity_gate.reshape(1, all_variable_count))\n",
    "individual_variable_A = individual_variable_A[np.where(np.sum(individual_variable_A, axis = 1) != 0)[0],]\n",
    "A = np.concatenate([request_A,individual_variable_A],axis=0)\n",
    "\n",
    "request_b = request_counts\n",
    "individual_variable_b = np.zeros(individual_variable_A.shape[0])\n",
    "b = np.concatenate([request_b,individual_variable_b],axis=0)\n",
    "endTime = timeit.default_timer() - startTime\n",
    "endTime"
   ]
  },
  {
   "cell_type": "code",
   "execution_count": 3,
   "metadata": {},
   "outputs": [
    {
     "name": "stdout",
     "output_type": "stream",
     "text": [
      "     pcost       dcost       gap    pres   dres\n",
      " 0: -2.1701e+07 -2.1748e+07  5e+04  2e-16  2e-16\n",
      " 1: -2.1701e+07 -2.1702e+07  5e+02  2e-16  1e-16\n",
      " 2: -2.1701e+07 -2.1701e+07  5e+00  1e-16  1e-16\n",
      "Optimal solution found.\n",
      "CPU times: user 8.44 ms, sys: 8.91 ms, total: 17.4 ms\n",
      "Wall time: 87.1 ms\n"
     ]
    }
   ],
   "source": [
    "%%time\n",
    "startTime = timeit.default_timer()\n",
    "## Solving optimization\n",
    "import cvxopt as cv\n",
    "sol=cv.solvers.coneqp(cv.matrix(Q), cv.matrix(p.T),\n",
    "                  cv.matrix(G), cv.matrix(h), None,\n",
    "                  cv.matrix(A), cv.matrix(b))\n",
    "endTime = timeit.default_timer() - startTime\n",
    "endTime"
   ]
  },
  {
   "cell_type": "code",
   "execution_count": 4,
   "metadata": {},
   "outputs": [
    {
     "data": {
      "text/plain": [
       "matrix([[  8.,  19.,   8.,  16.,  12.,  10.,  11.,  16.],\n",
       "        [  6.,  16.,  10.,   7.,   9.,  13.,  23.,  21.],\n",
       "        [ 16.,  16.,   8.,  12.,  14.,  12.,  16.,  17.],\n",
       "        [ 13.,  25.,   8.,  14.,  11.,  16.,  25.,  23.],\n",
       "        [ 13.,  20.,   9.,  10.,   8.,  20.,  24.,  13.],\n",
       "        [ 17.,  28.,  16.,  22.,   7.,  11.,   8.,  12.],\n",
       "        [  7.,  22.,   9.,  11.,   5.,  11.,  16.,  13.],\n",
       "        [ 10.,  22.,   8.,   9.,   8.,  15.,  18.,  12.]])"
      ]
     },
     "execution_count": 4,
     "metadata": {},
     "output_type": "execute_result"
    }
   ],
   "source": [
    "optSol = np.round(np.matrix(sol['x']).reshape(requests, stations))\n",
    "optSol"
   ]
  },
  {
   "cell_type": "code",
   "execution_count": 22,
   "metadata": {},
   "outputs": [
    {
     "data": {
      "text/plain": [
       "matrix([[ 13.80288172,  11.05085169,  14.51930931,  13.58007388,\n",
       "          14.34456074,  13.76901329,  16.04111783,  11.77482554]])"
      ]
     },
     "execution_count": 22,
     "metadata": {},
     "output_type": "execute_result"
    }
   ],
   "source": [
    "station_impressions"
   ]
  },
  {
   "cell_type": "code",
   "execution_count": 13,
   "metadata": {},
   "outputs": [
    {
     "data": {
      "text/plain": [
       "array([ 4647.,  4431.,  4617.,  4806.,  4491.,  4611.,  4371.,  4452.,\n",
       "        4347.,  4599.,  4356.,  4434.,  4488.,  4224.,  4602.,  4557.,\n",
       "        4326.,  4554.,  4389.,  4344.,  4320.,  4527.,  4323.,  4233.,\n",
       "        4695.,  4650.,  4560.,  4551.,  4368.,  4611.,  4473.,  4542.,\n",
       "        4665.,  4470.,  4470.,  4569.,  4497.,  4461.,  4620.,  4767.,\n",
       "        4515.,  4683.,  4260.,  4386.,  4620.,  4608.,  4341.,  4245.,\n",
       "        4695.,  4428.])"
      ]
     },
     "execution_count": 13,
     "metadata": {},
     "output_type": "execute_result"
    }
   ],
   "source": [
    "request_counts"
   ]
  },
  {
   "cell_type": "code",
   "execution_count": 20,
   "metadata": {},
   "outputs": [
    {
     "data": {
      "text/plain": [
       "array([[ 9.,  8.,  2.,  1.,  1.,  6.,  4.,  8.],\n",
       "       [ 5.,  2.,  1.,  9.,  1.,  5.,  2.,  2.],\n",
       "       [ 7.,  2.,  4.,  8.,  2.,  9.,  1.,  6.],\n",
       "       [ 9.,  2.,  7.,  9.,  4.,  2.,  4.,  3.],\n",
       "       [ 7.,  3.,  7.,  1.,  5.,  5.,  2.,  9.],\n",
       "       [ 8.,  8.,  5.,  7.,  7.,  2.,  3.,  5.],\n",
       "       [ 7.,  9.,  6.,  3.,  9.,  6.,  6.,  6.],\n",
       "       [ 9.,  1.,  9.,  7.,  2.,  2.,  4.,  9.]])"
      ]
     },
     "execution_count": 20,
     "metadata": {},
     "output_type": "execute_result"
    }
   ],
   "source": [
    "minimumAssignment"
   ]
  },
  {
   "cell_type": "code",
   "execution_count": null,
   "metadata": {},
   "outputs": [],
   "source": []
  },
  {
   "cell_type": "code",
   "execution_count": 15,
   "metadata": {},
   "outputs": [
    {
     "data": {
      "text/plain": [
       "matrix([[  744.,   888.,   814.,   884.,   759.,   662.,   775.,   555.,\n",
       "           714.,   705.,   787.,   839.,   764.,   757.,   658.,   672.,\n",
       "           631.,   707.,   774.,   691.,   859.,   756.,   902.,   843.,\n",
       "           556.,   630.,   822.,   891.,   831.,   700.,   716.,   875.,\n",
       "           728.,   750.,   689.,   774.,   745.,   820.,   881.,   626.,\n",
       "           828.,   721.,   756.,   819.,   874.,   820.,   829.,   850.,\n",
       "           795.,   794.,   758.,   737.,   756.,   642.,   757.,   465.,\n",
       "           747.,   903.,   808.,   878.,   727.,   774.,   939.,   745.,\n",
       "           735.,   640.,   759.,   571.,   658.,   704.,   630.,   747.,\n",
       "           810.,   643.,   788.,   930.,   554.,   845.,   618.,   714.,\n",
       "           566.,   574.,   804.,   758.,   810.,   566.,   669.,   909.,\n",
       "           705.,   691.,   831.,   740.,   655.,   861.,   633.,   760.,\n",
       "           712.,   728.,   723.,   706.,   642.,   693.,   758.,   895.,\n",
       "           584.,   836.,   750.,   754.,   792.,   817.,   781.,   771.,\n",
       "           762.,   782.,   773.,   716.,   832.,   750.,   716.,   688.,\n",
       "           836.,   864.,   833.,   775.,   762.,   632.,   704.,   652.,\n",
       "           637.,   771.,   715.,   602.,   749.,   820.,   719.,   626.,\n",
       "           767.,   666.,   877.,   717.,   673.,   630.,   752.,   873.,\n",
       "           918.,   808.,   846.,   690.,   722.,   647.,   572.,   878.,\n",
       "           756.,   740.,   798.,   857.,   830.,   844.,   944.,   778.,\n",
       "           718.,   954.,   760.,   917.,   694.,   648.,   662.,   941.,\n",
       "           866.,   691.,   691.,   838.,   763.,   727.,   757.,   737.,\n",
       "           754.,   630.,   685.,   785.,   826.,   716.,   784.,   593.,\n",
       "           881.,   806.,   619.,   933.,   751.,   835.,   727.,   874.,\n",
       "           630.,   652.,   654.,   863.,   652.,   727.,   870.,   711.,\n",
       "          1002.,   768.,   787.,   753.,   788.,   812.,   844.,   672.,\n",
       "           630.,   740.,   894.,   784.,   748.,   590.,   791.,   624.,\n",
       "           657.,   808.,   861.,   768.,   694.,   762.,   834.,   579.,\n",
       "           680.,   830.,   786.,   693.,   781.,   921.,   663.,   690.,\n",
       "           736.,   857.,   898.,   705.,   770.,   699.,   531.,   771.,\n",
       "           757.,   597.,   643.,   688.,   754.,   856.,   820.,   694.,\n",
       "           730.,   710.,   659.,   839.,   817.,   762.,   858.,   642.,\n",
       "           822.,   713.,   812.,   751.,   733.,   616.,   742.,   747.,\n",
       "           744.,   832.,   747.,   742.,   582.,   717.,   732.,   688.,\n",
       "           805.,   791.,   615.,   583.,   851.,   735.,   623.,   850.,\n",
       "           754.,   790.,   768.,   866.,   735.,   699.,   873.,   731.,\n",
       "           646.,   685.,   526.,   753.,   792.,   727.,   829.,   621.,\n",
       "           810.,   838.,   669.,   751.]])"
      ]
     },
     "execution_count": 15,
     "metadata": {},
     "output_type": "execute_result"
    }
   ],
   "source": [
    "np.sum(optSol, axis = 0)"
   ]
  },
  {
   "cell_type": "code",
   "execution_count": 254,
   "metadata": {},
   "outputs": [
    {
     "data": {
      "text/plain": [
       "array([ 3.,  7.,  2.,  1.,  7.,  8.,  4.,  7.,  5.,  1.,  3.,  3.,  7.,\n",
       "        9.,  8.,  1.,  2.,  9.,  5.,  6.,  8.,  3.,  7.,  3.,  2.])"
      ]
     },
     "execution_count": 254,
     "metadata": {},
     "output_type": "execute_result"
    }
   ],
   "source": [
    "individual_variable_h"
   ]
  },
  {
   "cell_type": "code",
   "execution_count": 353,
   "metadata": {},
   "outputs": [
    {
     "data": {
      "text/plain": [
       "matrix([[ 523.33576933],\n",
       "        [ 578.51522617]])"
      ]
     },
     "execution_count": 353,
     "metadata": {},
     "output_type": "execute_result"
    }
   ],
   "source": [
    "x = np.dot(optSol, station_impressions.T) - np.dot(minimumAssignment, station_impressions.T)*3\n",
    "y = np.dot(minimumAssignment, station_impressions.T)*3\n",
    "y"
   ]
  },
  {
   "cell_type": "code",
   "execution_count": 355,
   "metadata": {},
   "outputs": [
    {
     "data": {
      "text/plain": [
       "matrix([[-608403.72618968]])"
      ]
     },
     "execution_count": 355,
     "metadata": {},
     "output_type": "execute_result"
    }
   ],
   "source": [
    "np.dot(x.T, x) - np.dot(y.T,y)"
   ]
  },
  {
   "cell_type": "code",
   "execution_count": 336,
   "metadata": {},
   "outputs": [
    {
     "data": {
      "text/plain": [
       "780.102557360249"
      ]
     },
     "execution_count": 336,
     "metadata": {},
     "output_type": "execute_result"
    }
   ],
   "source": [
    "sqrt(6.0856e+05)"
   ]
  },
  {
   "cell_type": "code",
   "execution_count": 337,
   "metadata": {},
   "outputs": [
    {
     "data": {
      "text/plain": [
       "matrix([[-608403.72618968]])"
      ]
     },
     "execution_count": 337,
     "metadata": {},
     "output_type": "execute_result"
    }
   ],
   "source": [
    "(1/2)*optSol.flatten()*Q*optSol.flatten().T + p*optSol.flatten().T"
   ]
  },
  {
   "cell_type": "code",
   "execution_count": 5,
   "metadata": {},
   "outputs": [],
   "source": [
    "import timeit"
   ]
  },
  {
   "cell_type": "code",
   "execution_count": null,
   "metadata": {},
   "outputs": [],
   "source": []
  }
 ],
 "metadata": {
  "kernelspec": {
   "display_name": "Python 3",
   "language": "python",
   "name": "python3"
  },
  "language_info": {
   "codemirror_mode": {
    "name": "ipython",
    "version": 3
   },
   "file_extension": ".py",
   "mimetype": "text/x-python",
   "name": "python",
   "nbconvert_exporter": "python",
   "pygments_lexer": "ipython3",
   "version": "3.6.2"
  },
  "latex_envs": {
   "LaTeX_envs_menu_present": true,
   "autocomplete": true,
   "bibliofile": "biblio.bib",
   "cite_by": "apalike",
   "current_citInitial": 1,
   "eqLabelWithNumbers": true,
   "eqNumInitial": 1,
   "hotkeys": {
    "equation": "Ctrl-E",
    "itemize": "Ctrl-I"
   },
   "labels_anchors": false,
   "latex_user_defs": false,
   "report_style_numbering": false,
   "user_envs_cfg": false
  }
 },
 "nbformat": 4,
 "nbformat_minor": 2
}
