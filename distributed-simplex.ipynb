{
 "cells": [
  {
   "cell_type": "code",
   "execution_count": 4,
   "metadata": {},
   "outputs": [],
   "source": [
    "from scipy import sparse\n",
    "import numpy as np\n",
    "from scipy import stats\n",
    "from IPython.display import display, Markdown, Latex,Math\n",
    "from bst import bst,constraint,build_linear\n",
    "import bisect"
   ]
  },
  {
   "cell_type": "code",
   "execution_count": 5,
   "metadata": {},
   "outputs": [],
   "source": [
    "shape=(2,2)\n",
    "rvs1 = stats.randint(10,50).rvs\n",
    "spf=sparse.random(*shape,density=1,format='csr',data_rvs=rvs1)\n",
    "\n",
    "row_sum=np.array(spf.sum(axis=1,dtype=int))\n",
    "col_sum=np.array(spf.sum(axis=0,dtype=int))[0]\n",
    "\n",
    "rvs2 = stats.bernoulli(1).rvs\n",
    "spr=sparse.random(*shape,density=1,format='csr',data_rvs=rvs2)"
   ]
  },
  {
   "cell_type": "code",
   "execution_count": 26,
   "metadata": {},
   "outputs": [],
   "source": [
    "constraints=[]\n",
    "obj= constraint(-1,0,set(),set({0}))\n",
    "slack=shape[0]*shape[1]+1\n",
    "for i in range(0,shape[0]):\n",
    "    cons=constraint(slack,-row_sum[i][0],set(spr.getrow(i).indices + shape[1]*i+1).union(set({0})),set())\n",
    "    bisect.insort_left(constraints, cons)\n",
    "    slack=slack+1"
   ]
  },
  {
   "cell_type": "code",
   "execution_count": 27,
   "metadata": {},
   "outputs": [],
   "source": [
    "spr_col=spr.transpose()    \n",
    "for i in range(0,shape[1]):\n",
    "    cons=constraint(slack,col_sum[i],set({0}),set(spr_col.getrow(i).indices*shape[1] + i+1))\n",
    "    bisect.insort_left(constraints, cons)\n",
    "    slack=slack+1"
   ]
  },
  {
   "cell_type": "code",
   "execution_count": 28,
   "metadata": {},
   "outputs": [],
   "source": [
    "def print_tableu_bst(cons,obj):\n",
    "    display(Math(\"Max : \"+ display(Math(str(obj)))))\n",
    "    cons.print()\n",
    "    \n",
    "def print_tableu_list(cons,obj):\n",
    "    display(Math(\"Max \\ \"+ str(obj)))\n",
    "    for constraint in cons:\n",
    "        display(Math(str(constraint)))"
   ]
  },
  {
   "cell_type": "code",
   "execution_count": 29,
   "metadata": {},
   "outputs": [
    {
     "data": {
      "text/latex": [
       "$$Max \\ W = -x_{0}$$"
      ],
      "text/plain": [
       "<IPython.core.display.Math object>"
      ]
     },
     "metadata": {},
     "output_type": "display_data"
    },
    {
     "data": {
      "text/latex": [
       "$$x_{5}=-74+x_{0}+x_{1}+x_{2}> 0 $$"
      ],
      "text/plain": [
       "<IPython.core.display.Math object>"
      ]
     },
     "metadata": {},
     "output_type": "display_data"
    },
    {
     "data": {
      "text/latex": [
       "$$x_{6}=-43+x_{0}+x_{3}+x_{4}> 0 $$"
      ],
      "text/plain": [
       "<IPython.core.display.Math object>"
      ]
     },
     "metadata": {},
     "output_type": "display_data"
    },
    {
     "data": {
      "text/latex": [
       "$$x_{8}=50+x_{0} -x_{2} -x_{4}> 0 $$"
      ],
      "text/plain": [
       "<IPython.core.display.Math object>"
      ]
     },
     "metadata": {},
     "output_type": "display_data"
    },
    {
     "data": {
      "text/latex": [
       "$$x_{7}=67+x_{0} -x_{1} -x_{3}> 0 $$"
      ],
      "text/plain": [
       "<IPython.core.display.Math object>"
      ]
     },
     "metadata": {},
     "output_type": "display_data"
    }
   ],
   "source": [
    "print_tableu_list(constraints,obj)"
   ]
  },
  {
   "cell_type": "code",
   "execution_count": 30,
   "metadata": {},
   "outputs": [
    {
     "data": {
      "text/plain": [
       "array([[1., 1.],\n",
       "       [1., 1.]])"
      ]
     },
     "execution_count": 30,
     "metadata": {},
     "output_type": "execute_result"
    }
   ],
   "source": [
    "spr.toarray()"
   ]
  },
  {
   "cell_type": "code",
   "execution_count": 31,
   "metadata": {
    "scrolled": false
   },
   "outputs": [
    {
     "data": {
      "text/latex": [
       "$$Max \\ W =-74+x_{1}+x_{2} -x_{5}$$"
      ],
      "text/plain": [
       "<IPython.core.display.Math object>"
      ]
     },
     "metadata": {},
     "output_type": "display_data"
    },
    {
     "data": {
      "text/latex": [
       "$$x_{6}=31+x_{3}+x_{4}+x_{5} -x_{1} -x_{2}> 0 $$"
      ],
      "text/plain": [
       "<IPython.core.display.Math object>"
      ]
     },
     "metadata": {},
     "output_type": "display_data"
    },
    {
     "data": {
      "text/latex": [
       "$$x_{0}=74+x_{5} -x_{1} -x_{2}> 0 $$"
      ],
      "text/plain": [
       "<IPython.core.display.Math object>"
      ]
     },
     "metadata": {},
     "output_type": "display_data"
    },
    {
     "data": {
      "text/latex": [
       "$$x_{8}=124+x_{5} -x_{1} -x_{2} -x_{4}> 0 $$"
      ],
      "text/plain": [
       "<IPython.core.display.Math object>"
      ]
     },
     "metadata": {},
     "output_type": "display_data"
    },
    {
     "data": {
      "text/latex": [
       "$$x_{7}=141+x_{5} -x_{1} -x_{2} -x_{3}> 0 $$"
      ],
      "text/plain": [
       "<IPython.core.display.Math object>"
      ]
     },
     "metadata": {},
     "output_type": "display_data"
    },
    {
     "data": {
      "text/latex": [
       "$$Max \\ W =-43+x_{3}+x_{4} -x_{6}$$"
      ],
      "text/plain": [
       "<IPython.core.display.Math object>"
      ]
     },
     "metadata": {},
     "output_type": "display_data"
    },
    {
     "data": {
      "text/latex": [
       "$$x_{1}=31+x_{3}+x_{4}+x_{5} -x_{2} -x_{6}> 0 $$"
      ],
      "text/plain": [
       "<IPython.core.display.Math object>"
      ]
     },
     "metadata": {},
     "output_type": "display_data"
    },
    {
     "data": {
      "text/latex": [
       "$$x_{0}=43+x_{6} -x_{3} -x_{4}> 0 $$"
      ],
      "text/plain": [
       "<IPython.core.display.Math object>"
      ]
     },
     "metadata": {},
     "output_type": "display_data"
    },
    {
     "data": {
      "text/latex": [
       "$$x_{8}=93+x_{6} -x_{3} -x_{4}> 0 $$"
      ],
      "text/plain": [
       "<IPython.core.display.Math object>"
      ]
     },
     "metadata": {},
     "output_type": "display_data"
    },
    {
     "data": {
      "text/latex": [
       "$$x_{7}=110+x_{6} -x_{3} -x_{4}> 0 $$"
      ],
      "text/plain": [
       "<IPython.core.display.Math object>"
      ]
     },
     "metadata": {},
     "output_type": "display_data"
    },
    {
     "data": {
      "text/latex": [
       "$$Max \\ W = -x_{0}$$"
      ],
      "text/plain": [
       "<IPython.core.display.Math object>"
      ]
     },
     "metadata": {},
     "output_type": "display_data"
    },
    {
     "data": {
      "text/latex": [
       "$$x_{3}=43+x_{6} -x_{0} -x_{4}> 0 $$"
      ],
      "text/plain": [
       "<IPython.core.display.Math object>"
      ]
     },
     "metadata": {},
     "output_type": "display_data"
    },
    {
     "data": {
      "text/latex": [
       "$$x_{8}=50+x_{0}> 0 $$"
      ],
      "text/plain": [
       "<IPython.core.display.Math object>"
      ]
     },
     "metadata": {},
     "output_type": "display_data"
    },
    {
     "data": {
      "text/latex": [
       "$$x_{7}=67+x_{0}> 0 $$"
      ],
      "text/plain": [
       "<IPython.core.display.Math object>"
      ]
     },
     "metadata": {},
     "output_type": "display_data"
    },
    {
     "data": {
      "text/latex": [
       "$$x_{1}=74+x_{5} -x_{0} -x_{2}> 0 $$"
      ],
      "text/plain": [
       "<IPython.core.display.Math object>"
      ]
     },
     "metadata": {},
     "output_type": "display_data"
    }
   ],
   "source": [
    "def single_pivot():\n",
    "    for i in range(0,len(constraints)):\n",
    "        plausible_leave = constraints[i].n.intersection(obj.p)\n",
    "        if plausible_leave == set({}):\n",
    "            continue\n",
    "        else:\n",
    "            entering_arc = constraints[i].slack\n",
    "            leaving_arc = plausible_leave.pop()\n",
    "            new_constraint=constraint(leaving_arc,constraints[i].rhs,constraints[i].p.difference({entering_arc}),constraints[i].n.difference({leaving_arc}).union({entering_arc}))\n",
    "            constraints.remove(constraints[i])\n",
    "            return new_constraint\n",
    "        \n",
    "def update(new):\n",
    "    global obj,constraints\n",
    "    obj+=new\n",
    "    constraints = [cons+new for cons in constraints]\n",
    "    constraints+=[new]\n",
    "    constraints.sort(key=lambda x: x.rhs)   \n",
    "    print_tableu_list(constraints,obj)\n",
    "\n",
    "new=constraint(0,-constraints[0].rhs,constraints[0].n.union({constraints[0].slack}),constraints[0].p.difference({0}))\n",
    "constraints.remove(constraints[0])\n",
    "update(new)\n",
    "\n",
    "while not (obj.p==set({})):\n",
    "    new=single_pivot()\n",
    "    update(new)"
   ]
  },
  {
   "cell_type": "code",
   "execution_count": 32,
   "metadata": {},
   "outputs": [
    {
     "data": {
      "text/plain": [
       "1"
      ]
     },
     "execution_count": 32,
     "metadata": {},
     "output_type": "execute_result"
    }
   ],
   "source": [
    "a=set({1,2,3})\n",
    "a.pop()"
   ]
  },
  {
   "cell_type": "code",
   "execution_count": 33,
   "metadata": {},
   "outputs": [
    {
     "data": {
      "text/plain": [
       "array([[74],\n",
       "       [43]])"
      ]
     },
     "execution_count": 33,
     "metadata": {},
     "output_type": "execute_result"
    }
   ],
   "source": [
    "row_sum"
   ]
  },
  {
   "cell_type": "code",
   "execution_count": 34,
   "metadata": {},
   "outputs": [
    {
     "data": {
      "text/plain": [
       "array([67, 50])"
      ]
     },
     "execution_count": 34,
     "metadata": {},
     "output_type": "execute_result"
    }
   ],
   "source": [
    "col_sum"
   ]
  },
  {
   "cell_type": "code",
   "execution_count": 35,
   "metadata": {},
   "outputs": [
    {
     "data": {
      "text/plain": [
       "array([[41., 33.],\n",
       "       [26., 17.]])"
      ]
     },
     "execution_count": 35,
     "metadata": {},
     "output_type": "execute_result"
    }
   ],
   "source": [
    "spf.toarray()"
   ]
  },
  {
   "cell_type": "code",
   "execution_count": 36,
   "metadata": {},
   "outputs": [
    {
     "data": {
      "text/plain": [
       "array([[67, 50]])"
      ]
     },
     "execution_count": 36,
     "metadata": {},
     "output_type": "execute_result"
    }
   ],
   "source": [
    "np.array(spf.sum(axis=0,dtype=int))"
   ]
  },
  {
   "cell_type": "code",
   "execution_count": null,
   "metadata": {},
   "outputs": [],
   "source": []
  }
 ],
 "metadata": {
  "kernelspec": {
   "display_name": "Python 3",
   "language": "python",
   "name": "python3"
  },
  "language_info": {
   "codemirror_mode": {
    "name": "ipython",
    "version": 3
   },
   "file_extension": ".py",
   "mimetype": "text/x-python",
   "name": "python",
   "nbconvert_exporter": "python",
   "pygments_lexer": "ipython3",
   "version": "3.6.5"
  }
 },
 "nbformat": 4,
 "nbformat_minor": 2
}
