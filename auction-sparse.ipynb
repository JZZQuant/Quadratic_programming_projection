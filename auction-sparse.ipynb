{
 "cells": [
  {
   "cell_type": "code",
   "execution_count": 7,
   "metadata": {},
   "outputs": [],
   "source": [
    "import numpy as np\n",
    "from scipy import sparse\n",
    "cost='''20 25 22 28\n",
    "15 18 23 17\n",
    "19 17 21 24\n",
    "25 23 24 24'''\n",
    "\n",
    "cost=np.array([row.split(\" \") for row in cost.split(\"\\n\")],dtype=int)\n",
    "np.random.seed(1254)\n",
    "cost=np.random.randint(low=100,high=200,size=(10000,10000))\n",
    "cost=-1*cost\n",
    "cost[cost<-105]=0\n",
    "cost=cost/100000\n",
    "cost = sparse.csr_matrix(cost)"
   ]
  },
  {
   "cell_type": "code",
   "execution_count": 8,
   "metadata": {},
   "outputs": [
    {
     "name": "stderr",
     "output_type": "stream",
     "text": [
      "/Users/raghavas/Library/Python/3.6/lib/python/site-packages/ipykernel_launcher.py:25: FutureWarning: in the future negative indices will not be ignored by `numpy.delete`.\n"
     ]
    },
    {
     "name": "stdout",
     "output_type": "stream",
     "text": [
      "3.5 s ± 0 ns per loop (mean ± std. dev. of 1 run, 1 loop each)\n"
     ]
    }
   ],
   "source": [
    "%%timeit -n 1 -r 1\n",
    "prices=np.zeros(cost.shape[0])+1\n",
    "bids=np.zeros(cost.shape[0])+1\n",
    "assigned=np.zeros(cost.shape[0],dtype=int)-1\n",
    "unassigned=range(cost.shape[0])\n",
    "\n",
    "e=1.0/(cost.shape[0])\n",
    "def bids_func(row,index):\n",
    "    sparse_row_indices=cost[i].indices\n",
    "    prices_local=prices[sparse_row_indices]\n",
    "    diff=row.data-prices_local\n",
    "    objects=np.argmax(diff)\n",
    "    actual_indices=sparse_row_indices[objects]\n",
    "    largest=diff[objects]\n",
    "    largest_2=np.partition(diff, -2)[-2]\n",
    "    bid=prices_local[objects] + largest - largest_2 + e\n",
    "    if bids[actual_indices]<bid:\n",
    "        bids[actual_indices]=bid\n",
    "        assigned[actual_indices]=index\n",
    "\n",
    "assigned=np.zeros(cost.shape[0],dtype=int)-1\n",
    "unassigned=range(cost.shape[0])\n",
    "while len(unassigned)>0:\n",
    "    for i in unassigned:\n",
    "        bids_func(cost[i],i)\n",
    "    unassigned=np.delete(range(cost.shape[0]),assigned) \n",
    "    prices=bids\n",
    "np.argsort(assigned)+1"
   ]
  },
  {
   "cell_type": "code",
   "execution_count": 2,
   "metadata": {},
   "outputs": [],
   "source": [
    "#to improve\n",
    "#parallelization\n",
    "#similar objects"
   ]
  },
  {
   "cell_type": "code",
   "execution_count": null,
   "metadata": {},
   "outputs": [],
   "source": []
  }
 ],
 "metadata": {
  "kernelspec": {
   "display_name": "Python 3",
   "language": "python",
   "name": "python3"
  },
  "language_info": {
   "codemirror_mode": {
    "name": "ipython",
    "version": 3
   },
   "file_extension": ".py",
   "mimetype": "text/x-python",
   "name": "python",
   "nbconvert_exporter": "python",
   "pygments_lexer": "ipython3",
   "version": "3.6.3"
  },
  "latex_envs": {
   "LaTeX_envs_menu_present": true,
   "autocomplete": true,
   "bibliofile": "biblio.bib",
   "cite_by": "apalike",
   "current_citInitial": 1,
   "eqLabelWithNumbers": true,
   "eqNumInitial": 1,
   "hotkeys": {
    "equation": "Ctrl-E",
    "itemize": "Ctrl-I"
   },
   "labels_anchors": false,
   "latex_user_defs": false,
   "report_style_numbering": false,
   "user_envs_cfg": false
  },
  "varInspector": {
   "cols": {
    "lenName": 16,
    "lenType": 16,
    "lenVar": 40
   },
   "kernels_config": {
    "python": {
     "delete_cmd_postfix": "",
     "delete_cmd_prefix": "del ",
     "library": "var_list.py",
     "varRefreshCmd": "print(var_dic_list())"
    },
    "r": {
     "delete_cmd_postfix": ") ",
     "delete_cmd_prefix": "rm(",
     "library": "var_list.r",
     "varRefreshCmd": "cat(var_dic_list()) "
    }
   },
   "types_to_exclude": [
    "module",
    "function",
    "builtin_function_or_method",
    "instance",
    "_Feature"
   ],
   "window_display": false
  }
 },
 "nbformat": 4,
 "nbformat_minor": 2
}
