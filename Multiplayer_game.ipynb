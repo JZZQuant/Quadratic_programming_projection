{
 "cells": [
  {
   "cell_type": "code",
   "execution_count": 21,
   "metadata": {},
   "outputs": [],
   "source": [
    "import numpy as np\n",
    "from scipy.linalg import block_diag\n",
    "from cvxopt import matrix, solvers ,glpk\n",
    "solvers.options['show_progress'] = False\n",
    "#np.random.seed(7000)"
   ]
  },
  {
   "cell_type": "code",
   "execution_count": 25,
   "metadata": {},
   "outputs": [],
   "source": [
    "#SYSTEM1\n",
    "def _system1(sparse_,down_,right_):\n",
    "    row_constrinats=block_diag(*sparse_)\n",
    "    column_constraints=np.concatenate(np.apply_along_axis(lambda x: block_diag(*x),1,sparse_)).T\n",
    "    A=np.append(row_constrinats,column_constraints,axis=0)\n",
    "    A=A.astype(\"d\")\n",
    "    rows=np.where(np.sum(A,axis=1)!=0)[0]\n",
    "    cols=np.where(np.sum(A,axis=0)!=0)[0]\n",
    "    A=A[:,cols][rows,:]\n",
    "    variables=A.shape[1]\n",
    "    b=np.concatenate([right_, down_], axis=0) \n",
    "    b=b.astype(\"d\")\n",
    "    c=np.ones(variables)\n",
    "    rank=np.linalg.matrix_rank(A)\n",
    "    A=A[:rank,:]\n",
    "    b=b[:rank]\n",
    "    g=matrix(-1*np.identity(variables,dtype='d'))\n",
    "    H=matrix(np.zeros(variables,dtype='d'))\n",
    "    #print(A,b,g,H)\n",
    "    sol=solvers.lp(matrix(-1*c),G=g,h=H,A=matrix(A),b=matrix(b))\n",
    "    return sol\n",
    "\n",
    "def make_infeasible(sparse,_right,_down):\n",
    "    init=_right[0]\n",
    "    _right[0]= sum(sparse[0,:]*down)+1\n",
    "    i=1\n",
    "    while sum(_right)!=sum(_down):\n",
    "        new=int(_right[i]/6)\n",
    "        old=_right[i]\n",
    "        alloc=min(_right[0]-init,old-new)\n",
    "        _right[i]=old-alloc\n",
    "        init=init+alloc\n",
    "        i=i+1\n",
    "    return _right"
   ]
  },
  {
   "cell_type": "code",
   "execution_count": 26,
   "metadata": {},
   "outputs": [],
   "source": [
    "#system2\n",
    "def _system2(sparse,down,right):\n",
    "    A_= sparse\n",
    "    b_=np.apply_along_axis(lambda x: np.sum(x*down),1,sparse)-right\n",
    "    b_[-1]=right[-1]\n",
    "    var_=A_.shape[1]\n",
    "    A=A_[-1,:]\n",
    "    b=b_[-1]\n",
    "    A_[:-1,:]\n",
    "    b_[:-1]\n",
    "    A_=np.concatenate([A_,-1*np.identity(var_),np.identity(var_)])\n",
    "    b_=np.concatenate([b_,np.zeros(var_),down])\n",
    "    c_= np.zeros(var_)\n",
    "    sol_=solvers.lp(matrix(-1*c_),G=matrix(A_.astype(np.double)),h=matrix(b_.astype(np.double)),A=matrix(A.astype(np.double)).T,b=matrix(b.astype(np.double)))\n",
    "    return sol_"
   ]
  },
  {
   "cell_type": "code",
   "execution_count": 27,
   "metadata": {
    "scrolled": true
   },
   "outputs": [
    {
     "name": "stdout",
     "output_type": "stream",
     "text": [
      "0\n",
      "-vetest\n",
      "-vetest\n",
      "-vetest\n",
      "+vetest\n"
     ]
    }
   ],
   "source": [
    "is_solved=True\n",
    "i=0\n",
    "while is_solved:\n",
    "    m=np.random.randint(5,10)\n",
    "    n=np.random.randint(5,10)\n",
    "    #create sparse matrix\n",
    "    mat=np.random.randint(15,40,(m,n))\n",
    "    p=mat[:-1,:]\n",
    "    p[p%3 -1 !=0]=0\n",
    "    \n",
    "    #remove void rows and columns\n",
    "    rs=np.sum(p,axis=1)\n",
    "    cs=np.sum(p,axis=0)\n",
    "    rows=np.where(rs!=0)[0]\n",
    "    rows=np.append(rows,m-1)\n",
    "    cols=np.where(cs!=0)[0]\n",
    "    mat=mat[:,cols][rows,:]\n",
    "\n",
    "    if mat.shape[0]<=4 or mat.shape[1]<4:\n",
    "        continue\n",
    "    #create supply demand\n",
    "    right=mat.sum(axis=1)\n",
    "    down=mat.sum(axis=0)\n",
    "    sparse=np.copy(mat)\n",
    "    sparse[sparse>0]=1\n",
    "    \n",
    "    if np.random.randint(0,2)==1:\n",
    "        right=make_infeasible(sparse,right,down)\n",
    "        \n",
    "    full_rank=np.unique(sparse,axis=0,return_index=True)\n",
    "    sparse=full_rank[0]\n",
    "    right=right[full_rank[1]]\n",
    "    right[-1]=down.sum()-right[:-1].sum()\n",
    "        \n",
    "    #get sol using linear programming\n",
    "    sol1=_system1(sparse,down,right)\n",
    "    #solve using swapnil reduction\n",
    "    sol2=_system2(sparse,down,right)\n",
    "    _sparse=sparse[:-1,:]\n",
    "    _right=right[:-1]\n",
    "    if sol2[\"status\"]==\"optimal\":\n",
    "        print(np.array(sol2[\"x\"].T))\n",
    "        _down=(down-np.array(sol2[\"x\"].T))[0]\n",
    "        #remove the solution of last row after reduction and solve again using linear programming\n",
    "        _sparse=_sparse[np.where(_right!=0)[0],:][:,np.where(_down!=0)[0]]\n",
    "        _right=_right[np.where(_right!=0)[0]]\n",
    "        _down=_down[np.where(_down!=0)[0]]\n",
    "        sol3=_system1(_sparse,_down,_right)\n",
    "\n",
    "    is_solved=False\n",
    "    if i%1000==0:\n",
    "        print(i)\n",
    "    i=i+1\n",
    "    if sol1[\"status\"]==\"optimal\":\n",
    "        print(\"+vetest\")\n",
    "        is_solved = (sol2[\"status\"]==\"optimal\") #and (sol3[\"status\"]==\"optimal\")\n",
    "    else:\n",
    "        print(\"-vetest\")\n",
    "        is_solved = sol2[\"status\"]!=\"optimal\"\n",
    "        "
   ]
  },
  {
   "cell_type": "code",
   "execution_count": 28,
   "metadata": {},
   "outputs": [
    {
     "data": {
      "text/plain": [
       "array([[0, 0, 0, 0, 0, 1, 0],\n",
       "       [0, 0, 0, 0, 1, 1, 1],\n",
       "       [0, 0, 1, 0, 0, 0, 0],\n",
       "       [0, 1, 0, 0, 0, 0, 1],\n",
       "       [1, 0, 0, 1, 1, 0, 0],\n",
       "       [1, 1, 1, 1, 1, 1, 1]])"
      ]
     },
     "execution_count": 28,
     "metadata": {},
     "output_type": "execute_result"
    }
   ],
   "source": [
    "sparse"
   ]
  },
  {
   "cell_type": "code",
   "execution_count": 29,
   "metadata": {
    "scrolled": true
   },
   "outputs": [
    {
     "name": "stdout",
     "output_type": "stream",
     "text": [
      "0 0 0 0 0 1 0\n",
      " 0 0 0 0 1 1 1\n",
      " 0 0 1 0 0 0 0\n",
      " 0 1 0 0 0 0 1\n",
      " 1 0 0 1 1 0 0\n",
      " 1 1 1 1 1 1 1\n",
      "[34 55 37 51 69 94 74]\n",
      "[ 31  66  16  38  60 203]\n",
      "[ 109.41236928   38.08100239   79.38029123   84.11694326  105.00939384]\n",
      "[31 66 16 38 60]\n",
      "0 0 0 0 0 1 0\n",
      " 0 0 0 0 1 1 1\n",
      " 0 0 1 0 0 0 0\n",
      " 0 1 0 0 0 0 1\n",
      " 1 0 0 1 1 0 0\n"
     ]
    }
   ],
   "source": [
    "print(str(sparse).replace(\"]\",\"\").replace(\"[\",\"\"))\n",
    "print(down)\n",
    "print(right)\n",
    "print(_down)\n",
    "print(_right)\n",
    "print(str(_sparse).replace(\"]\",\"\").replace(\"[\",\"\"))"
   ]
  },
  {
   "cell_type": "code",
   "execution_count": 83,
   "metadata": {},
   "outputs": [
    {
     "data": {
      "text/plain": [
       "True"
      ]
     },
     "execution_count": 83,
     "metadata": {},
     "output_type": "execute_result"
    }
   ],
   "source": [
    "sol2[0]==\"optimal\""
   ]
  },
  {
   "cell_type": "code",
   "execution_count": 66,
   "metadata": {},
   "outputs": [
    {
     "name": "stdout",
     "output_type": "stream",
     "text": [
      "[[1. 1. 0. 0. 0. 0.]\n",
      " [0. 0. 1. 1. 0. 0.]\n",
      " [0. 0. 0. 0. 1. 0.]\n",
      " [0. 0. 0. 0. 0. 1.]\n",
      " [1. 0. 1. 0. 0. 0.]\n",
      " [0. 0. 0. 1. 1. 1.]] [ 50.  32.  50.  87.  62. 116.] [-1.00e+00 -0.00e+00 -0.00e+00 -0.00e+00 -0.00e+00 -0.00e+00]\n",
      "[-0.00e+00 -1.00e+00 -0.00e+00 -0.00e+00 -0.00e+00 -0.00e+00]\n",
      "[-0.00e+00 -0.00e+00 -1.00e+00 -0.00e+00 -0.00e+00 -0.00e+00]\n",
      "[-0.00e+00 -0.00e+00 -0.00e+00 -1.00e+00 -0.00e+00 -0.00e+00]\n",
      "[-0.00e+00 -0.00e+00 -0.00e+00 -0.00e+00 -1.00e+00 -0.00e+00]\n",
      "[-0.00e+00 -0.00e+00 -0.00e+00 -0.00e+00 -0.00e+00 -1.00e+00]\n",
      " [ 0.00e+00]\n",
      "[ 0.00e+00]\n",
      "[ 0.00e+00]\n",
      "[ 0.00e+00]\n",
      "[ 0.00e+00]\n",
      "[ 0.00e+00]\n",
      "\n"
     ]
    },
    {
     "data": {
      "text/plain": [
       "{'dual infeasibility': None,\n",
       " 'dual objective': 1.0,\n",
       " 'dual slack': 8.309359201454974e-05,\n",
       " 'gap': None,\n",
       " 'iterations': 5,\n",
       " 'primal infeasibility': None,\n",
       " 'primal objective': None,\n",
       " 'primal slack': None,\n",
       " 'relative gap': None,\n",
       " 'residual as dual infeasibility certificate': None,\n",
       " 'residual as primal infeasibility certificate': 2.8359488201607e-09,\n",
       " 's': None,\n",
       " 'status': 'primal infeasible',\n",
       " 'x': None,\n",
       " 'y': <6x1 matrix, tc='d'>,\n",
       " 'z': <6x1 matrix, tc='d'>}"
      ]
     },
     "execution_count": 66,
     "metadata": {},
     "output_type": "execute_result"
    }
   ],
   "source": [
    "_system1(_sparse,_down,_right)"
   ]
  },
  {
   "cell_type": "code",
   "execution_count": 85,
   "metadata": {},
   "outputs": [
    {
     "data": {
      "text/plain": [
       "array([[64., 32., 31., -0., -0., -0., -0., 75.]])"
      ]
     },
     "execution_count": 85,
     "metadata": {},
     "output_type": "execute_result"
    }
   ],
   "source": [
    "np.array(sol2[1].T)"
   ]
  },
  {
   "cell_type": "code",
   "execution_count": null,
   "metadata": {},
   "outputs": [],
   "source": []
  }
 ],
 "metadata": {
  "kernelspec": {
   "display_name": "Python 3",
   "language": "python",
   "name": "python3"
  },
  "language_info": {
   "codemirror_mode": {
    "name": "ipython",
    "version": 3
   },
   "file_extension": ".py",
   "mimetype": "text/x-python",
   "name": "python",
   "nbconvert_exporter": "python",
   "pygments_lexer": "ipython3",
   "version": "3.6.2"
  },
  "latex_envs": {
   "LaTeX_envs_menu_present": true,
   "autocomplete": true,
   "bibliofile": "biblio.bib",
   "cite_by": "apalike",
   "current_citInitial": 1,
   "eqLabelWithNumbers": true,
   "eqNumInitial": 1,
   "hotkeys": {
    "equation": "Ctrl-E",
    "itemize": "Ctrl-I"
   },
   "labels_anchors": false,
   "latex_user_defs": false,
   "report_style_numbering": false,
   "user_envs_cfg": false
  },
  "varInspector": {
   "cols": {
    "lenName": 16,
    "lenType": 16,
    "lenVar": 40
   },
   "kernels_config": {
    "python": {
     "delete_cmd_postfix": "",
     "delete_cmd_prefix": "del ",
     "library": "var_list.py",
     "varRefreshCmd": "print(var_dic_list())"
    },
    "r": {
     "delete_cmd_postfix": ") ",
     "delete_cmd_prefix": "rm(",
     "library": "var_list.r",
     "varRefreshCmd": "cat(var_dic_list()) "
    }
   },
   "types_to_exclude": [
    "module",
    "function",
    "builtin_function_or_method",
    "instance",
    "_Feature"
   ],
   "window_display": false
  }
 },
 "nbformat": 4,
 "nbformat_minor": 2
}
