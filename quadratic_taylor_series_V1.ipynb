{
 "cells": [
  {
   "cell_type": "code",
   "execution_count": 2,
   "metadata": {
    "collapsed": true
   },
   "outputs": [],
   "source": [
    "from sympy import *\n",
    "import numpy as np\n",
    "from scipy import linalg, sparse\n",
    "\n",
    "## Problem Statement\n",
    "stations=300\n",
    "requests=50\n",
    "all_variable_count = stations*requests\n",
    "# Minimum Assignment from Each Station\n",
    "minimumAssignment = np.random.randint(low = 1, high = 10, size = (requests, stations))\n",
    "sparsity_gate=np.round(np.random.random((requests, stations))*1)\n",
    "minimumAssignment=minimumAssignment*sparsity_gate\n",
    "# Station Count and Request Count\n",
    "station_counts=5*np.sum(minimumAssignment,axis=0)\n",
    "request_counts=3*np.sum(minimumAssignment,axis=1)\n",
    "# Impressions\n",
    "station_impressions=np.matrix(np.random.uniform(low=10,high=20,size=stations))\n",
    "request_impressions=3*(minimumAssignment*station_impressions.T).T #Target impressions for request depends on ratio of frames from stations and average station impressions\n"
   ]
  },
  {
   "cell_type": "code",
   "execution_count": 3,
   "metadata": {
    "collapsed": true
   },
   "outputs": [],
   "source": [
    "## Solution\n",
    "# Cost function\n",
    "gram_matrix=2*np.kron(station_impressions,station_impressions.T)\n",
    "Q=np.kron(np.identity(requests,dtype=int),gram_matrix)\n",
    "p=-2*np.kron(request_impressions,station_impressions)\n",
    "\n",
    "# Inequality constraints - On stations and on individual non-zero variable\n",
    "station_G = np.concatenate(np.apply_along_axis(lambda x: linalg.block_diag(*x),1,sparsity_gate)).T\n",
    "individual_variable_G = -1*np.identity(all_variable_count,dtype=int)*sparsity_gate.reshape(1, all_variable_count)\n",
    "individual_variable_G = individual_variable_G[np.where(np.sum(individual_variable_G, axis = 1) != 0)[0],]\n",
    "G = np.concatenate([station_G,individual_variable_G],axis=0)\n",
    "\n",
    "station_h = station_counts\n",
    "individual_variable_h = -1*minimumAssignment[np.where(minimumAssignment != 0)]\n",
    "h = np.concatenate([station_h,individual_variable_h],axis=0)\n",
    "\n",
    "# Equality constraints - On requests and on individual zero variables\n",
    "request_A = linalg.block_diag(*sparsity_gate.tolist())\n",
    "individual_variable_A = np.identity(all_variable_count,dtype=int)*(1 - sparsity_gate.reshape(1, all_variable_count))\n",
    "individual_variable_A = individual_variable_A[np.where(np.sum(individual_variable_A, axis = 1) != 0)[0],]\n",
    "A = np.concatenate([request_A,individual_variable_A],axis=0)\n",
    "\n",
    "request_b = request_counts\n",
    "individual_variable_b = np.zeros(individual_variable_A.shape[0])\n",
    "b = np.concatenate([request_b,individual_variable_b],axis=0)\n"
   ]
  },
  {
   "cell_type": "code",
   "execution_count": 4,
   "metadata": {},
   "outputs": [
    {
     "name": "stdout",
     "output_type": "stream",
     "text": [
      "     pcost       dcost       gap    pres   dres\n",
      " 0: -5.8226e+10 -5.8245e+10  2e+07  3e-15  3e-15\n",
      " 1: -5.8226e+10 -5.8226e+10  2e+05  4e-16  3e-16\n",
      " 2: -5.8226e+10 -5.8226e+10  2e+03  4e-16  3e-16\n",
      "Optimal solution found.\n"
     ]
    }
   ],
   "source": [
    "## Solving optimization\n",
    "import cvxopt as cv\n",
    "sol=cv.solvers.coneqp(cv.matrix(Q), cv.matrix(p.T),\n",
    "                  cv.matrix(G), cv.matrix(h), None,\n",
    "                  cv.matrix(A), cv.matrix(b))"
   ]
  },
  {
   "cell_type": "code",
   "execution_count": 5,
   "metadata": {},
   "outputs": [
    {
     "data": {
      "text/plain": [
       "matrix([[  0.,   8.,  14., ...,  -0.,  -0.,  13.],\n",
       "        [ 15.,   0.,  -0., ...,  -0.,  11.,  -0.],\n",
       "        [  0.,  15.,   0., ...,  20.,  -0.,  -0.],\n",
       "        ..., \n",
       "        [ 10.,  -0.,  -0., ...,  15.,  -0.,   0.],\n",
       "        [  0.,  10.,  -0., ...,   0.,  -0.,   0.],\n",
       "        [ 18.,   0.,  -0., ...,  -0.,  13.,  -0.]])"
      ]
     },
     "execution_count": 5,
     "metadata": {},
     "output_type": "execute_result"
    }
   ],
   "source": [
    "optSol = np.round(np.matrix(sol['x']).reshape(requests, stations))\n",
    "optSol"
   ]
  },
  {
   "cell_type": "code",
   "execution_count": 6,
   "metadata": {},
   "outputs": [
    {
     "data": {
      "text/plain": [
       "array([ 605.,  535.,  640.,  620.,  600.,  615.,  765.,  715.,  590.,\n",
       "        570.,  785.,  510.,  660.,  535.,  530.,  675.,  550.,  590.,\n",
       "        610.,  675.,  490.,  825.,  625.,  625.,  710.,  560.,  650.,\n",
       "        800.,  610.,  655.,  500.,  630.,  710.,  685.,  525.,  600.,\n",
       "        720.,  640.,  575.,  510.,  690.,  430.,  615.,  700.,  575.,\n",
       "        540.,  800.,  495.,  580.,  560.,  605.,  485.,  840.,  655.,\n",
       "        610.,  620.,  585.,  635.,  450.,  650.,  635.,  705.,  460.,\n",
       "        650.,  730.,  750.,  560.,  575.,  650.,  780.,  645.,  775.,\n",
       "        740.,  600.,  455.,  520.,  795.,  675.,  505.,  565.,  645.,\n",
       "        700.,  510.,  790.,  675.,  715.,  555.,  470.,  535.,  600.,\n",
       "        525.,  505.,  565.,  835.,  605.,  635.,  705.,  450.,  575.,\n",
       "        570.,  570.,  595.,  590.,  340.,  545.,  515.,  825.,  640.,\n",
       "        740.,  730.,  540.,  650.,  790.,  560.,  690.,  675.,  670.,\n",
       "        495.,  655.,  655.,  555.,  520.,  650.,  560.,  690.,  830.,\n",
       "        715.,  665.,  815.,  460.,  635.,  635.,  695.,  520.,  495.,\n",
       "        620.,  715.,  605.,  575.,  575.,  470.,  540.,  600.,  655.,\n",
       "        770.,  600.,  715.,  530.,  515.,  615.,  810.,  700.,  505.,\n",
       "        990.,  505.,  655.,  510.,  630.,  645.,  690.,  405.,  605.,\n",
       "        535.,  660.,  580.,  670.,  710.,  685.,  760.,  640.,  560.,\n",
       "        870.,  545.,  725.,  495.,  450.,  615.,  550.,  550.,  625.,\n",
       "        805.,  615.,  600.,  430.,  730.,  535.,  525.,  615.,  535.,\n",
       "        670.,  620.,  775.,  565.,  560.,  725.,  860.,  470.,  470.,\n",
       "        690.,  505.,  530.,  595.,  615.,  730.,  480.,  650.,  455.,\n",
       "        660.,  600.,  590.,  715.,  615.,  690.,  565.,  500.,  495.,\n",
       "        515.,  945.,  470.,  800.,  765.,  575.,  585.,  555.,  630.,\n",
       "        705.,  530.,  580.,  545.,  675.,  710.,  620.,  680.,  850.,\n",
       "        610.,  640.,  705.,  710.,  570.,  720.,  560.,  735.,  755.,\n",
       "        435.,  685.,  790.,  800.,  585.,  680.,  925.,  560.,  390.,\n",
       "        710.,  500.,  530.,  635.,  665.,  715.,  740.,  650.,  460.,\n",
       "        650.,  510.,  480.,  615.,  795.,  800.,  590.,  425.,  720.,\n",
       "        675.,  695.,  680.,  645.,  530.,  650.,  435.,  625.,  705.,\n",
       "        735.,  795.,  755.,  500.,  655.,  640.,  590.,  495.,  630.,\n",
       "        845.,  705.,  520.,  605.,  650.,  605.,  635.,  630.,  865.,\n",
       "        685.,  510.,  485.])"
      ]
     },
     "execution_count": 6,
     "metadata": {},
     "output_type": "execute_result"
    }
   ],
   "source": [
    "station_counts"
   ]
  },
  {
   "cell_type": "code",
   "execution_count": 7,
   "metadata": {},
   "outputs": [
    {
     "data": {
      "text/plain": [
       "array([ 2412.,  2088.,  2331.,  2031.,  2175.,  1965.,  2265.,  2448.,\n",
       "        2223.,  2208.,  2373.,  2283.,  2478.,  2559.,  2160.,  2343.,\n",
       "        1968.,  2364.,  2280.,  2010.,  2160.,  2310.,  2160.,  2727.,\n",
       "        2238.,  2178.,  2118.,  2400.,  2262.,  2295.,  2112.,  2277.,\n",
       "        1785.,  1875.,  2361.,  2373.,  2253.,  2430.,  2250.,  2496.,\n",
       "        2313.,  2553.,  1929.,  2160.,  2361.,  1947.,  2490.,  2322.,\n",
       "        2346.,  2175.])"
      ]
     },
     "execution_count": 7,
     "metadata": {},
     "output_type": "execute_result"
    }
   ],
   "source": [
    "request_counts"
   ]
  },
  {
   "cell_type": "code",
   "execution_count": 8,
   "metadata": {},
   "outputs": [
    {
     "data": {
      "text/plain": [
       "array([[ 0.,  1.,  4., ...,  0.,  0.,  6.],\n",
       "       [ 6.,  0.,  0., ...,  0.,  3.,  0.],\n",
       "       [ 0.,  7.,  0., ...,  8.,  0.,  0.],\n",
       "       ..., \n",
       "       [ 1.,  0.,  0., ...,  2.,  0.,  0.],\n",
       "       [ 0.,  2.,  0., ...,  0.,  0.,  0.],\n",
       "       [ 9.,  0.,  0., ...,  0.,  6.,  0.]])"
      ]
     },
     "execution_count": 8,
     "metadata": {},
     "output_type": "execute_result"
    }
   ],
   "source": [
    "minimumAssignment"
   ]
  },
  {
   "cell_type": "code",
   "execution_count": 9,
   "metadata": {},
   "outputs": [
    {
     "data": {
      "text/plain": [
       "matrix([[ 357.,  287.,  390.,  370.,  350.,  364.,  510.,  466.,  341.,\n",
       "          321.,  530.,  259.,  408.,  283.,  282.,  425.,  300.,  341.,\n",
       "          358.,  423.,  242.,  571.,  369.,  374.,  460.,  312.,  398.,\n",
       "          547.,  359.,  409.,  252.,  379.,  456.,  433.,  279.,  350.,\n",
       "          468.,  391.,  322.,  261.,  437.,  183.,  367.,  449.,  323.,\n",
       "          294.,  547.,  246.,  331.,  309.,  355.,  239.,  587.,  402.,\n",
       "          361.,  369.,  336.,  384.,  204.,  399.,  381.,  451.,  211.,\n",
       "          397.,  478.,  497.,  308.,  325.,  400.,  527.,  392.,  519.,\n",
       "          487.,  353.,  207.,  273.,  542.,  425.,  258.,  314.,  395.,\n",
       "          452.,  264.,  542.,  422.,  463.,  307.,  223.,  287.,  349.,\n",
       "          275.,  258.,  316.,  580.,  353.,  382.,  452.,  205.,  329.,\n",
       "          322.,  320.,  345.,  339.,   98.,  297.,  267.,  570.,  391.,\n",
       "          489.,  480.,  290.,  401.,  537.,  313.,  438.,  419.,  416.,\n",
       "          248.,  403.,  407.,  308.,  270.,  399.,  311.,  443.,  575.,\n",
       "          463.,  411.,  560.,  215.,  385.,  385.,  443.,  272.,  245.,\n",
       "          368.,  464.,  354.,  327.,  324.,  225.,  292.,  348.,  405.,\n",
       "          517.,  349.,  466.,  285.,  267.,  361.,  556.,  450.,  254.,\n",
       "          735.,  257.,  402.,  260.,  380.,  396.,  441.,  161.,  354.,\n",
       "          286.,  411.,  331.,  419.,  457.,  434.,  505.,  388.,  309.,\n",
       "          613.,  296.,  472.,  249.,  204.,  365.,  298.,  303.,  374.,\n",
       "          549.,  367.,  353.,  184.,  479.,  286.,  273.,  363.,  287.,\n",
       "          417.,  369.,  521.,  315.,  307.,  474.,  606.,  225.,  223.,\n",
       "          440.,  259.,  281.,  344.,  366.,  478.,  233.,  402.,  209.,\n",
       "          409.,  348.,  342.,  464.,  365.,  438.,  314.,  253.,  247.,\n",
       "          266.,  693.,  222.,  547.,  511.,  330.,  335.,  309.,  380.,\n",
       "          453.,  281.,  330.,  297.,  425.,  456.,  370.,  427.,  595.,\n",
       "          359.,  387.,  454.,  457.,  323.,  469.,  312.,  480.,  502.,\n",
       "          190.,  431.,  535.,  547.,  332.,  433.,  671.,  311.,  146.,\n",
       "          460.,  256.,  284.,  381.,  413.,  465.,  488.,  403.,  214.,\n",
       "          398.,  261.,  233.,  364.,  539.,  545.,  340.,  181.,  467.,\n",
       "          424.,  441.,  431.,  397.,  279.,  400.,  191.,  374.,  451.,\n",
       "          484.,  543.,  503.,  252.,  402.,  392.,  340.,  246.,  379.,\n",
       "          588.,  454.,  273.,  355.,  400.,  356.,  385.,  380.,  610.,\n",
       "          428.,  264.,  238.]])"
      ]
     },
     "execution_count": 9,
     "metadata": {},
     "output_type": "execute_result"
    }
   ],
   "source": [
    "np.sum(optSol, axis = 0)"
   ]
  },
  {
   "cell_type": "code",
   "execution_count": 10,
   "metadata": {},
   "outputs": [
    {
     "data": {
      "text/plain": [
       "array([-1., -4., -9., ..., -9., -7., -6.])"
      ]
     },
     "execution_count": 10,
     "metadata": {},
     "output_type": "execute_result"
    }
   ],
   "source": [
    "individual_variable_h"
   ]
  },
  {
   "cell_type": "code",
   "execution_count": 11,
   "metadata": {},
   "outputs": [
    {
     "data": {
      "text/plain": [
       "matrix([[ 36303.22344704],\n",
       "        [ 31114.6003301 ],\n",
       "        [ 34769.18822937],\n",
       "        [ 31313.90533081],\n",
       "        [ 32612.10536904],\n",
       "        [ 29675.03330519],\n",
       "        [ 33660.74119019],\n",
       "        [ 36999.09866088],\n",
       "        [ 33504.0766914 ],\n",
       "        [ 33283.95712309],\n",
       "        [ 35704.20707084],\n",
       "        [ 34403.73845318],\n",
       "        [ 37817.94208592],\n",
       "        [ 39281.804645  ],\n",
       "        [ 32028.69714164],\n",
       "        [ 34538.46275025],\n",
       "        [ 30169.88785797],\n",
       "        [ 35323.8938953 ],\n",
       "        [ 34442.60780145],\n",
       "        [ 29603.14372185],\n",
       "        [ 32761.12963182],\n",
       "        [ 34671.4630785 ],\n",
       "        [ 32300.82713746],\n",
       "        [ 42038.38564433],\n",
       "        [ 33161.13159669],\n",
       "        [ 33149.64031945],\n",
       "        [ 32121.9582469 ],\n",
       "        [ 37000.47182033],\n",
       "        [ 34380.1384266 ],\n",
       "        [ 34799.47112256],\n",
       "        [ 31507.58603939],\n",
       "        [ 33413.80290945],\n",
       "        [ 27709.33873793],\n",
       "        [ 27669.56786343],\n",
       "        [ 35746.37595187],\n",
       "        [ 35890.04837458],\n",
       "        [ 34213.23366128],\n",
       "        [ 37213.16512936],\n",
       "        [ 33594.96506744],\n",
       "        [ 38249.17199512],\n",
       "        [ 34518.74441732],\n",
       "        [ 38996.59926033],\n",
       "        [ 29476.36913569],\n",
       "        [ 32217.60115756],\n",
       "        [ 35804.98380744],\n",
       "        [ 29446.42613162],\n",
       "        [ 37653.54852009],\n",
       "        [ 35206.00232154],\n",
       "        [ 35166.24032351],\n",
       "        [ 33214.0882252 ]])"
      ]
     },
     "execution_count": 11,
     "metadata": {},
     "output_type": "execute_result"
    }
   ],
   "source": [
    "np.dot(optSol, station_impressions.T)"
   ]
  },
  {
   "cell_type": "code",
   "execution_count": 12,
   "metadata": {
    "collapsed": true
   },
   "outputs": [],
   "source": [
    "x = np.dot(optSol, station_impressions.T) - np.dot(minimumAssignment, station_impressions.T)*3"
   ]
  },
  {
   "cell_type": "code",
   "execution_count": 13,
   "metadata": {},
   "outputs": [
    {
     "data": {
      "text/plain": [
       "matrix([[ 110911.52181558]])"
      ]
     },
     "execution_count": 13,
     "metadata": {},
     "output_type": "execute_result"
    }
   ],
   "source": [
    "np.dot(x.T, x)"
   ]
  },
  {
   "cell_type": "code",
   "execution_count": 14,
   "metadata": {},
   "outputs": [
    {
     "data": {
      "text/plain": [
       "236843.830403074"
      ]
     },
     "execution_count": 14,
     "metadata": {},
     "output_type": "execute_result"
    }
   ],
   "source": [
    "sqrt(5.6095e+10)"
   ]
  },
  {
   "cell_type": "code",
   "execution_count": null,
   "metadata": {
    "collapsed": true
   },
   "outputs": [],
   "source": []
  }
 ],
 "metadata": {
  "kernelspec": {
   "display_name": "Python 2",
   "language": "python",
   "name": "python2"
  },
  "language_info": {
   "codemirror_mode": {
    "name": "ipython",
    "version": 2
   },
   "file_extension": ".py",
   "mimetype": "text/x-python",
   "name": "python",
   "nbconvert_exporter": "python",
   "pygments_lexer": "ipython2",
   "version": "2.7.13"
  },
  "latex_envs": {
   "LaTeX_envs_menu_present": true,
   "autocomplete": true,
   "bibliofile": "biblio.bib",
   "cite_by": "apalike",
   "current_citInitial": 1,
   "eqLabelWithNumbers": true,
   "eqNumInitial": 1,
   "hotkeys": {
    "equation": "Ctrl-E",
    "itemize": "Ctrl-I"
   },
   "labels_anchors": false,
   "latex_user_defs": false,
   "report_style_numbering": false,
   "user_envs_cfg": false
  }
 },
 "nbformat": 4,
 "nbformat_minor": 2
}
