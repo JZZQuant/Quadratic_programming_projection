{
 "cells": [
  {
   "cell_type": "code",
   "execution_count": 6,
   "metadata": {},
   "outputs": [],
   "source": [
    "import numpy as np\n",
    "from scipy.linalg import block_diag\n",
    "from cvxopt import matrix, solvers ,glpk\n",
    "\n",
    "m=np.random.randint(10,15)\n",
    "n=np.random.randint(10,15)\n",
    "#create sparse matrix\n",
    "mat=np.random.randint(15,40,(m,n))\n",
    "p=mat[:-1,:]\n",
    "p[p%25 -1 !=0]=0\n",
    "\n",
    "#remove void rows and columns\n",
    "rs=np.sum(p,axis=1)\n",
    "cs=np.sum(p,axis=0)\n",
    "rows=np.where(rs!=0)[0]\n",
    "rows=np.append(rows,m-1)\n",
    "cols=np.where(cs!=0)[0]\n",
    "mat=mat[:,cols][rows,:]\n",
    "    \n",
    "#create supply demand\n",
    "right=mat.sum(axis=1)\n",
    "down=mat.sum(axis=0)\n",
    "sparse=np.copy(mat)\n",
    "sparse[sparse>0]=1\n",
    "\n",
    "\n",
    "sparse=\"\"\"0\t0\t0\t1\t0\t1\t0\t1\n",
    "0\t0\t0\t1\t1\t1\t1\t1\n",
    "0\t0\t1\t0\t1\t1\t0\t0\n",
    "1\t0\t0\t0\t0\t0\t0\t0\n",
    "1\t1\t1\t0\t0\t0\t0\t0\n",
    "1\t1\t1\t1\t1\t1\t1\t1\"\"\"\n",
    "sparse=np.array([list(map(int, k.split(\"\\t\"))) for k in sparse.split(\"\\n\")])\n",
    "\n",
    "down=[92,32,93,83,78,138,55,75]\n",
    "right=[96,149,90,28,81,202]\n",
    "\n",
    "# sparse=np.array([[1, 0,1],\n",
    "#        [0, 1,1],\n",
    "#        [1, 1,1]])\n",
    "# down=[40,40,40]\n",
    "# right=[30,40,50]\n",
    "\n",
    "def get_constraints(sparse_,down_,right_):\n",
    "    row_constrinats=block_diag(*sparse_)\n",
    "    column_constraints=np.concatenate(np.apply_along_axis(lambda x: block_diag(*x),1,sparse_)).T\n",
    "    A=np.append(row_constrinats,column_constraints,axis=0)\n",
    "    A=A.astype(\"d\")\n",
    "    rows=np.where(np.sum(A,axis=1)!=0)[0]\n",
    "    cols=np.where(np.sum(A,axis=0)!=0)[0]\n",
    "    A=A[:,cols][rows,:]\n",
    "    variables=A.shape[1]\n",
    "    b=np.concatenate([right_, down_], axis=0) \n",
    "    b=b.astype(\"d\")\n",
    "    c=np.ones(variables)\n",
    "    rank=np.linalg.matrix_rank(A)\n",
    "    #A=A[:rank,:]\n",
    "    #b=b[:rank]\n",
    "    g=-1*np.identity(variables,dtype='d')\n",
    "    H=np.zeros(variables,dtype='d')\n",
    "    return A,g,b,H\n"
   ]
  },
  {
   "cell_type": "code",
   "execution_count": 2,
   "metadata": {},
   "outputs": [],
   "source": [
    "A,G,b,h=get_constraints(sparse,down,right)"
   ]
  },
  {
   "cell_type": "code",
   "execution_count": 3,
   "metadata": {},
   "outputs": [
    {
     "name": "stdout",
     "output_type": "stream",
     "text": [
      "updating column: 0\n",
      "2\n",
      "updating column: 1\n",
      "2\n",
      "updating column: 2\n",
      "2\n",
      "updating column: 3\n",
      "2\n",
      "updating column: 4\n",
      "2\n",
      "updating column: 5\n",
      "0\n",
      "updating column: 6\n",
      "2\n",
      "updating column: 7\n",
      "0\n",
      "updating column: 8\n",
      "2\n",
      "updating column: 9\n",
      "2\n",
      "updating column: 10\n",
      "0\n",
      "updating column: 11\n",
      "2\n",
      "updating column: 12\n",
      "2\n",
      "updating column: 13\n",
      "2\n",
      "updating column: 14\n",
      "2\n"
     ]
    }
   ],
   "source": [
    "variables=list(zip(np.where(A==1)[0],np.where(A==1)[1]))\n",
    "A1 = np.copy(A)\n",
    "A1 = np.append(A1,np.matrix(b).T, axis = 1)\n",
    "\n",
    "G1 = np.copy(G)\n",
    "G1 = np.append(G1,np.matrix(h).T, axis = 1)\n",
    "for col in range(A.shape[1]-sparse.shape[1]):\n",
    "    print(\"updating column: \" + str(col))\n",
    "    current_variable_coulmn_A=A1[:,col]\n",
    "    equality_constraint_rows=np.where(current_variable_coulmn_A!=0)[0]\n",
    "    current_variable_coulmn_G=G1[:,col]\n",
    "    positive_inequality_rows=np.where(current_variable_coulmn_G==1)[0]\n",
    "    negative_inequality_rows=np.where(current_variable_coulmn_G==-1)[0]\n",
    "    inequality_constraint_rows = np.append(positive_inequality_rows, negative_inequality_rows)\n",
    "    print(equality_constraint_rows.shape[0])\n",
    "    if equality_constraint_rows.shape[0]==2:\n",
    "        for current_inequality_row in inequality_constraint_rows:\n",
    "            # Optimise if-else using radamacher \n",
    "            if G1[current_inequality_row, col] == A1[equality_constraint_rows[1], col]:\n",
    "                G1[current_inequality_row, :] = G1[current_inequality_row, :] - A1[equality_constraint_rows[1], :]\n",
    "            else:\n",
    "                G1[current_inequality_row, :] = G1[current_inequality_row, :] + A1[equality_constraint_rows[1], :]\n",
    "        \n",
    "        if A1[equality_constraint_rows[0],col] == A1[equality_constraint_rows[1],col]:\n",
    "            A1[equality_constraint_rows[0],:] = A1[equality_constraint_rows[0],:] - A1[equality_constraint_rows[1],:]\n",
    "        else:\n",
    "            A1[equality_constraint_rows[0],:] = A1[equality_constraint_rows[0],:] + A1[equality_constraint_rows[1],:]\n",
    "        A1=np.delete(A1, equality_constraint_rows[1], 0)\n",
    "\n",
    "    else:\n",
    "        cross=[(i,j) for i in positive_inequality_rows for j in negative_inequality_rows]\n",
    "        for (p, n) in cross:\n",
    "            G1 = np.append(G1, (G1[p,:] + G1[n,:]), axis = 0)\n",
    "        G1 = np.delete(G1, inequality_constraint_rows, 0)\n",
    "            "
   ]
  },
  {
   "cell_type": "code",
   "execution_count": 4,
   "metadata": {},
   "outputs": [
    {
     "data": {
      "text/plain": [
       "matrix([[   0.,    0.,    0.,    0.,    0.,    0.,    0.,    0.,    0.,\n",
       "            0.,    0.,    0.,    0.,    0.,    0.,   -1.,   -1.,   -1.,\n",
       "           -1.,   -1.,   -1.,   -1.,   -1., -202.],\n",
       "        [   0.,    0.,    0.,    0.,    0.,    0.,    0.,    0.,    0.,\n",
       "            0.,    0.,    0.,    0.,    0.,    0.,    1.,    1.,    1.,\n",
       "            1.,    1.,    1.,    1.,    1.,  202.]])"
      ]
     },
     "execution_count": 4,
     "metadata": {},
     "output_type": "execute_result"
    }
   ],
   "source": [
    "A1"
   ]
  },
  {
   "cell_type": "code",
   "execution_count": 5,
   "metadata": {},
   "outputs": [
    {
     "data": {
      "text/plain": [
       "matrix([[   0.,    0.,    0.,    0.,    0.,    0.,    0.,    0.,    0.,\n",
       "            0.,    0.,    0.,    0.,    0.,    0.,    0.,    0.,    0.,\n",
       "            0.,    0.,    0.,    1.,    0.,   55.],\n",
       "        [   0.,    0.,    0.,    0.,    0.,    0.,    0.,    0.,    0.,\n",
       "            0.,    0.,    0.,    0.,    0.,    0.,    1.,    1.,    1.,\n",
       "            0.,    0.,    0.,    0.,    0.,  108.],\n",
       "        [   0.,    0.,    0.,    0.,    0.,    0.,    0.,    0.,    0.,\n",
       "            0.,    0.,    0.,    0.,    0.,    0.,    0.,    0.,    0.,\n",
       "            0.,    0.,    0.,    0.,    0.,   28.],\n",
       "        [   0.,    0.,    0.,    0.,    0.,    0.,    0.,    0.,    0.,\n",
       "            0.,    0.,    0.,    0.,    0.,    0.,    1.,    0.,    0.,\n",
       "            0.,    0.,    0.,    0.,    0.,   64.],\n",
       "        [   0.,    0.,    0.,    0.,    0.,    0.,    0.,    0.,    0.,\n",
       "            0.,    0.,    0.,    0.,    0.,    0.,    0.,    1.,    0.,\n",
       "            0.,    0.,    0.,    0.,    0.,   32.],\n",
       "        [   0.,    0.,    0.,    0.,    0.,    0.,    0.,    0.,    0.,\n",
       "            0.,    0.,    0.,    0.,    0.,    0.,   -1.,   -1.,    0.,\n",
       "            0.,    0.,    0.,    0.,    0.,  -15.],\n",
       "        [  -0.,   -0.,   -0.,   -0.,   -0.,   -0.,   -0.,   -0.,   -0.,\n",
       "           -0.,   -0.,   -0.,   -0.,   -0.,   -0.,   -1.,   -0.,   -0.,\n",
       "           -0.,   -0.,   -0.,   -0.,   -0.,    0.],\n",
       "        [  -0.,   -0.,   -0.,   -0.,   -0.,   -0.,   -0.,   -0.,   -0.,\n",
       "           -0.,   -0.,   -0.,   -0.,   -0.,   -0.,   -0.,   -1.,   -0.,\n",
       "           -0.,   -0.,   -0.,   -0.,   -0.,    0.],\n",
       "        [  -0.,   -0.,   -0.,   -0.,   -0.,   -0.,   -0.,   -0.,   -0.,\n",
       "           -0.,   -0.,   -0.,   -0.,   -0.,   -0.,   -0.,   -0.,   -1.,\n",
       "           -0.,   -0.,   -0.,   -0.,   -0.,    0.],\n",
       "        [  -0.,   -0.,   -0.,   -0.,   -0.,   -0.,   -0.,   -0.,   -0.,\n",
       "           -0.,   -0.,   -0.,   -0.,   -0.,   -0.,   -0.,   -0.,   -0.,\n",
       "           -1.,   -0.,   -0.,   -0.,   -0.,    0.],\n",
       "        [  -0.,   -0.,   -0.,   -0.,   -0.,   -0.,   -0.,   -0.,   -0.,\n",
       "           -0.,   -0.,   -0.,   -0.,   -0.,   -0.,   -0.,   -0.,   -0.,\n",
       "           -0.,   -1.,   -0.,   -0.,   -0.,    0.],\n",
       "        [  -0.,   -0.,   -0.,   -0.,   -0.,   -0.,   -0.,   -0.,   -0.,\n",
       "           -0.,   -0.,   -0.,   -0.,   -0.,   -0.,   -0.,   -0.,   -0.,\n",
       "           -0.,   -0.,   -1.,   -0.,   -0.,    0.],\n",
       "        [  -0.,   -0.,   -0.,   -0.,   -0.,   -0.,   -0.,   -0.,   -0.,\n",
       "           -0.,   -0.,   -0.,   -0.,   -0.,   -0.,   -0.,   -0.,   -0.,\n",
       "           -0.,   -0.,   -0.,   -1.,   -0.,    0.],\n",
       "        [  -0.,   -0.,   -0.,   -0.,   -0.,   -0.,   -0.,   -0.,   -0.,\n",
       "           -0.,   -0.,   -0.,   -0.,   -0.,   -0.,   -0.,   -0.,   -0.,\n",
       "           -0.,   -0.,   -0.,   -0.,   -1.,    0.],\n",
       "        [   0.,    0.,    0.,    0.,    0.,    0.,    0.,    0.,    0.,\n",
       "            0.,    0.,    0.,    0.,    0.,    0.,    0.,    0.,    0.,\n",
       "            1.,    0.,    0.,    0.,    0.,   83.],\n",
       "        [   0.,    0.,    0.,    0.,    0.,    0.,    0.,    0.,    0.,\n",
       "            0.,    0.,    0.,    0.,    0.,    0.,    0.,    0.,    0.,\n",
       "            0.,    0.,    0.,    0.,    1.,   75.],\n",
       "        [   0.,    0.,    0.,    0.,    0.,    0.,    0.,    0.,    0.,\n",
       "            0.,    0.,    0.,    0.,    0.,    0.,    1.,    1.,    1.,\n",
       "            1.,    1.,    1.,    1.,    1.,  298.],\n",
       "        [   0.,    0.,    0.,    0.,    0.,    0.,    0.,    0.,    0.,\n",
       "            0.,    0.,    0.,    0.,    0.,    0.,    0.,    0.,    0.,\n",
       "            0.,    1.,    0.,    0.,    0.,   78.],\n",
       "        [   0.,    0.,    0.,    0.,    0.,    0.,    0.,    0.,    0.,\n",
       "            0.,    0.,    0.,    0.,    0.,    0.,   -1.,   -1.,   -1.,\n",
       "            0.,    0.,    0.,    0.,    0.,  -18.],\n",
       "        [   0.,    0.,    0.,    0.,    0.,    0.,    0.,    0.,    0.,\n",
       "            0.,    0.,    0.,    0.,    0.,    0.,    1.,    1.,    1.,\n",
       "            0.,    1.,    1.,    0.,    0.,  234.],\n",
       "        [   0.,    0.,    0.,    0.,    0.,    0.,    0.,    0.,    0.,\n",
       "            0.,    0.,    0.,    0.,    0.,    0.,    0.,    0.,    0.,\n",
       "            0.,    0.,    1.,    0.,    0.,  138.],\n",
       "        [   0.,    0.,    0.,    0.,    0.,    0.,    0.,    0.,    0.,\n",
       "            0.,    0.,    0.,    0.,    0.,    0.,    0.,    0.,    0.,\n",
       "            0.,    0.,    0.,   -1.,    0.,   94.],\n",
       "        [   0.,    0.,    0.,    0.,    0.,    0.,    0.,    0.,    0.,\n",
       "            0.,    0.,    0.,    0.,    0.,    0.,   -1.,   -1.,   -1.,\n",
       "            0.,   -1.,    0.,   -1.,    0.,   -2.],\n",
       "        [   0.,    0.,    0.,    0.,    0.,    0.,    0.,    0.,    0.,\n",
       "            0.,    0.,    0.,    0.,    0.,    0.,    1.,    1.,    1.,\n",
       "            1.,    1.,    1.,    0.,    0.,  317.],\n",
       "        [   0.,    0.,    0.,    0.,    0.,    0.,    0.,    0.,    0.,\n",
       "            0.,    0.,    0.,    0.,    0.,    0.,    0.,    0.,    0.,\n",
       "            1.,    0.,    1.,    0.,    0.,  221.]])"
      ]
     },
     "execution_count": 5,
     "metadata": {},
     "output_type": "execute_result"
    }
   ],
   "source": [
    "G1"
   ]
  },
  {
   "cell_type": "code",
   "execution_count": 221,
   "metadata": {},
   "outputs": [
    {
     "data": {
      "text/plain": [
       "array([[0, 0, 0, 0, 0, 0, 0, 0, 0, 0, 1],\n",
       "       [0, 1, 0, 1, 0, 0, 1, 0, 0, 0, 1],\n",
       "       [1, 0, 0, 1, 0, 0, 0, 1, 0, 0, 1],\n",
       "       [1, 1, 0, 0, 0, 0, 0, 0, 0, 0, 0],\n",
       "       [0, 1, 1, 1, 0, 0, 0, 0, 1, 0, 1],\n",
       "       [0, 0, 0, 0, 1, 0, 0, 0, 0, 0, 0],\n",
       "       [0, 0, 0, 0, 0, 1, 0, 1, 0, 0, 0],\n",
       "       [0, 0, 0, 0, 0, 0, 0, 1, 0, 1, 1],\n",
       "       [0, 0, 0, 0, 1, 0, 0, 1, 0, 0, 1],\n",
       "       [1, 1, 1, 1, 1, 1, 1, 1, 1, 1, 1]])"
      ]
     },
     "execution_count": 221,
     "metadata": {},
     "output_type": "execute_result"
    }
   ],
   "source": [
    "sparse"
   ]
  },
  {
   "cell_type": "code",
   "execution_count": null,
   "metadata": {},
   "outputs": [],
   "source": []
  }
 ],
 "metadata": {
  "kernelspec": {
   "display_name": "Python 3",
   "language": "python",
   "name": "python3"
  },
  "language_info": {
   "codemirror_mode": {
    "name": "ipython",
    "version": 3
   },
   "file_extension": ".py",
   "mimetype": "text/x-python",
   "name": "python",
   "nbconvert_exporter": "python",
   "pygments_lexer": "ipython3",
   "version": "3.6.2"
  },
  "latex_envs": {
   "LaTeX_envs_menu_present": true,
   "autocomplete": true,
   "bibliofile": "biblio.bib",
   "cite_by": "apalike",
   "current_citInitial": 1,
   "eqLabelWithNumbers": true,
   "eqNumInitial": 1,
   "hotkeys": {
    "equation": "Ctrl-E",
    "itemize": "Ctrl-I"
   },
   "labels_anchors": false,
   "latex_user_defs": false,
   "report_style_numbering": false,
   "user_envs_cfg": false
  },
  "varInspector": {
   "cols": {
    "lenName": 16,
    "lenType": 16,
    "lenVar": 40
   },
   "kernels_config": {
    "python": {
     "delete_cmd_postfix": "",
     "delete_cmd_prefix": "del ",
     "library": "var_list.py",
     "varRefreshCmd": "print(var_dic_list())"
    },
    "r": {
     "delete_cmd_postfix": ") ",
     "delete_cmd_prefix": "rm(",
     "library": "var_list.r",
     "varRefreshCmd": "cat(var_dic_list()) "
    }
   },
   "types_to_exclude": [
    "module",
    "function",
    "builtin_function_or_method",
    "instance",
    "_Feature"
   ],
   "window_display": false
  }
 },
 "nbformat": 4,
 "nbformat_minor": 2
}
