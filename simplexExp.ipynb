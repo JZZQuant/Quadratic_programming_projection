{
 "cells": [
  {
   "cell_type": "code",
   "execution_count": 53,
   "metadata": {},
   "outputs": [],
   "source": [
    "'''To Minimize: Z = -2x1 - 3x2 - 4x3\n",
    "Subject to: 3x1 + 2x2 + z <= 10\n",
    "2x1 + 5x2 + 3x3 <= 15\n",
    "x1, x2, x3 >= 0\n",
    "'''\n",
    "\n",
    "import numpy as np\n",
    "\n",
    "costMatrix = np.matrix([-2, -3, -4])\n",
    "inequalityConstraintLHS = np.matrix([[3, 2, 1], [2, 5, 3]])\n",
    "inequalityConstraintRHS = np.matrix([10, 15])\n",
    "constraint_count = inequalityConstraintRHS.shape[1]"
   ]
  },
  {
   "cell_type": "code",
   "execution_count": 61,
   "metadata": {},
   "outputs": [
    {
     "data": {
      "text/plain": [
       "matrix([[3, 2, 1, 1, 0],\n",
       "        [2, 5, 3, 0, 1]])"
      ]
     },
     "execution_count": 61,
     "metadata": {},
     "output_type": "execute_result"
    }
   ],
   "source": [
    "## Problem in standard form\n",
    "C = np.append(costMatrix, np.zeros((1,constraint_count), dtype = int), axis = 1)\n",
    "slackVariableIdentity = np.identity(constraint_count, dtype = int)\n",
    "A = np.append(inequalityConstraintLHS, slackVariableIdentity, axis = 1)\n",
    "b = inequalityConstraintRHS.reshape(2,1)\n",
    "A"
   ]
  },
  {
   "cell_type": "code",
   "execution_count": 66,
   "metadata": {},
   "outputs": [
    {
     "data": {
      "text/plain": [
       "matrix([[1, 0],\n",
       "        [3, 1]])"
      ]
     },
     "execution_count": 66,
     "metadata": {},
     "output_type": "execute_result"
    }
   ],
   "source": [
    "## Solution Matrices\n",
    "variableCount = C.shape[1]\n",
    "B_index = np.random.choice(range(variableCount), constraint_count, replace = False)\n",
    "B = A[:, B_index]\n",
    "N = np.delete(A, B_index, axis = 1)\n",
    "B"
   ]
  },
  {
   "cell_type": "code",
   "execution_count": 70,
   "metadata": {},
   "outputs": [
    {
     "data": {
      "text/plain": [
       "matrix([[-35],\n",
       "        [-70]])"
      ]
     },
     "execution_count": 70,
     "metadata": {},
     "output_type": "execute_result"
    }
   ],
   "source": [
    "x = np.invert(B)*b\n",
    "x"
   ]
  },
  {
   "cell_type": "code",
   "execution_count": null,
   "metadata": {},
   "outputs": [],
   "source": []
  }
 ],
 "metadata": {
  "kernelspec": {
   "display_name": "Python 3",
   "language": "python",
   "name": "python3"
  },
  "language_info": {
   "codemirror_mode": {
    "name": "ipython",
    "version": 3
   },
   "file_extension": ".py",
   "mimetype": "text/x-python",
   "name": "python",
   "nbconvert_exporter": "python",
   "pygments_lexer": "ipython3",
   "version": "3.6.2"
  }
 },
 "nbformat": 4,
 "nbformat_minor": 2
}
