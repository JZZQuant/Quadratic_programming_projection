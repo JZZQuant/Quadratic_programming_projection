{
 "cells": [
  {
   "cell_type": "code",
   "execution_count": 3,
   "metadata": {},
   "outputs": [
    {
     "data": {
      "text/plain": [
       "array([57])"
      ]
     },
     "execution_count": 3,
     "metadata": {},
     "output_type": "execute_result"
    }
   ],
   "source": [
    "import numpy as np\n",
    "import glpk as glpk\n",
    "\n",
    "class Request:\n",
    "    def __init__(self, station_list, frame_count):\n",
    "        self.station_list = station_list\n",
    "        self.frame_requested = frame_count\n",
    "\n",
    "class StationData:\n",
    "    def __init__(self) -> None:\n",
    "        self.station_count = 5\n",
    "        self.max_frame_per_station = 100\n",
    "        self.max_requested_frame = 100\n",
    "        self.frame_per_station = np.repeat(self.max_frame_per_station, self.station_count)\n",
    "\n",
    "    def request_generation(self):\n",
    "        station_list = np.random.choice(2, self.station_count)\n",
    "        frame_requested = np.random.choice((self.max_requested_frame+1), 1)\n",
    "        new_request = Request(station_list, frame_requested)\n",
    "        return new_request\n",
    "\n",
    "class Constraint:\n",
    "    def __init__(self, variable_indices, relation = \"=\", RHS):\n",
    "        self.variable_indices = variable_indices\n",
    "        self.relation = relation\n",
    "        self.RHS = RHS\n",
    "        \n",
    "    def needs_modification(self):\n",
    "        pass\n",
    "    \n",
    "    def modify_constraint(self):\n",
    "        pass"
   ]
  },
  {
   "cell_type": "code",
   "execution_count": 4,
   "metadata": {},
   "outputs": [
    {
     "data": {
      "text/plain": [
       "array([48])"
      ]
     },
     "execution_count": 4,
     "metadata": {},
     "output_type": "execute_result"
    }
   ],
   "source": [
    "station_data = StationData()\n",
    "new_request = station_data.request_generation()\n",
    "new_request.station_list\n",
    "new_request.frame_requested"
   ]
  },
  {
   "cell_type": "code",
   "execution_count": null,
   "metadata": {},
   "outputs": [],
   "source": []
  }
 ],
 "metadata": {
  "kernelspec": {
   "display_name": "Python 3",
   "language": "python",
   "name": "python3"
  },
  "language_info": {
   "codemirror_mode": {
    "name": "ipython",
    "version": 3
   },
   "file_extension": ".py",
   "mimetype": "text/x-python",
   "name": "python",
   "nbconvert_exporter": "python",
   "pygments_lexer": "ipython3",
   "version": "3.6.2"
  }
 },
 "nbformat": 4,
 "nbformat_minor": 2
}
